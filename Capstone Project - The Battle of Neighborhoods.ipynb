{
 "cells": [
  {
   "cell_type": "markdown",
   "metadata": {},
   "source": [
    "# Capstone Project - The Battle of Neighborhoods"
   ]
  },
  {
   "cell_type": "markdown",
   "metadata": {},
   "source": [
    "## Introduction"
   ]
  },
  {
   "cell_type": "markdown",
   "metadata": {},
   "source": [
    "Being suffered from a combination of political and social issues over past few years, Hong Kong is no longer a place that has a bright future to many. An increasing number of Hong Kong people therefore plan to leave once their beloved home to other places. One of the hottest places is Taipei city, the capital of Taiwan where shares many similarities with Hong Kong (e.g.  culture, language and standard of living, etc.) and has a well-established democracy. \n",
    "\n",
    "Taipei City is a big city and has a lot to offer. It can be daunting to pick where to settle in. In an attempt to provide some useful insights, I am going to explore the neighbourhoods within the city and try to group them according to their characteristics and make suggestions"
   ]
  },
  {
   "cell_type": "markdown",
   "metadata": {},
   "source": [
    "## Data"
   ]
  },
  {
   "cell_type": "markdown",
   "metadata": {},
   "source": [
    "<ul>\n",
    "    <li><b>Foursquare</b> - I will use the Foursquare API to explore neighborhoods in Taipei City. I will use the explore function to get the most common venue categories in each neighborhood, and then use this feature to group the neighborhoods into clusters</li>\n",
    "    <li><b>Wikipedia</b> - <a href=\"https://en.wikipedia.org/wiki/Category:Districts_of_Taipei\">List of neighbourhoods of Taipei</a></li>\n",
    "</ul>\n"
   ]
  },
  {
   "cell_type": "code",
   "execution_count": null,
   "metadata": {},
   "outputs": [],
   "source": []
  }
 ],
 "metadata": {
  "kernelspec": {
   "display_name": "Python 3",
   "language": "python",
   "name": "python3"
  },
  "language_info": {
   "codemirror_mode": {
    "name": "ipython",
    "version": 3
   },
   "file_extension": ".py",
   "mimetype": "text/x-python",
   "name": "python",
   "nbconvert_exporter": "python",
   "pygments_lexer": "ipython3",
   "version": "3.7.3"
  }
 },
 "nbformat": 4,
 "nbformat_minor": 2
}
